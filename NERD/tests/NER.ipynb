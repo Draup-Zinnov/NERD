{
 "cells": [
  {
   "cell_type": "code",
   "execution_count": 1,
   "metadata": {},
   "outputs": [],
   "source": [
    "%load_ext autoreload\n",
    "%autoreload 2"
   ]
  },
  {
   "cell_type": "code",
   "execution_count": 2,
   "metadata": {},
   "outputs": [],
   "source": [
    "import sys"
   ]
  },
  {
   "cell_type": "code",
   "execution_count": 3,
   "metadata": {},
   "outputs": [],
   "source": [
    "sys.path.append('../../')"
   ]
  },
  {
   "cell_type": "code",
   "execution_count": 4,
   "metadata": {},
   "outputs": [],
   "source": [
    "from NERD.NER import NerTagger"
   ]
  },
  {
   "cell_type": "code",
   "execution_count": 5,
   "metadata": {},
   "outputs": [],
   "source": [
    "import pandas as pd"
   ]
  },
  {
   "cell_type": "code",
   "execution_count": 6,
   "metadata": {},
   "outputs": [],
   "source": [
    "df = pd.read_json('../datasets/NER_DATASET.json', lines=True)"
   ]
  },
  {
   "cell_type": "code",
   "execution_count": 7,
   "metadata": {},
   "outputs": [],
   "source": [
    "annotations = set()"
   ]
  },
  {
   "cell_type": "code",
   "execution_count": 8,
   "metadata": {},
   "outputs": [],
   "source": [
    "for ann in df.annotation:\n",
    "    for item in ann:\n",
    "        label = item['label']\n",
    "        annotations.update(label)"
   ]
  },
  {
   "cell_type": "code",
   "execution_count": 9,
   "metadata": {},
   "outputs": [
    {
     "data": {
      "text/plain": [
       "{'College Name',\n",
       " 'Companies worked at',\n",
       " 'Degree',\n",
       " 'Designation',\n",
       " 'Email Address',\n",
       " 'Graduation Year',\n",
       " 'Location',\n",
       " 'Name',\n",
       " 'Skills',\n",
       " 'UNKNOWN',\n",
       " 'Years of Experience'}"
      ]
     },
     "execution_count": 9,
     "metadata": {},
     "output_type": "execute_result"
    }
   ],
   "source": [
    "annotations"
   ]
  },
  {
   "cell_type": "code",
   "execution_count": 10,
   "metadata": {},
   "outputs": [],
   "source": [
    "tag_data = [(i.replace(' ', ''), i) for i in annotations]"
   ]
  },
  {
   "cell_type": "code",
   "execution_count": 11,
   "metadata": {},
   "outputs": [],
   "source": [
    "sents = df.content"
   ]
  },
  {
   "cell_type": "code",
   "execution_count": 19,
   "metadata": {},
   "outputs": [],
   "source": [
    "all_sents = []\n",
    "for sent in sents[:5]:\n",
    "    all_sents.extend(sent.split('\\n'))"
   ]
  },
  {
   "cell_type": "code",
   "execution_count": 20,
   "metadata": {},
   "outputs": [
    {
     "data": {
      "text/plain": [
       "491"
      ]
     },
     "execution_count": 20,
     "metadata": {},
     "output_type": "execute_result"
    }
   ],
   "source": [
    "len(all_sents)"
   ]
  },
  {
   "cell_type": "code",
   "execution_count": 21,
   "metadata": {},
   "outputs": [],
   "source": [
    "from NERD.NER import NerTagger"
   ]
  },
  {
   "cell_type": "code",
   "execution_count": 22,
   "metadata": {},
   "outputs": [],
   "source": [
    "nertagger = NerTagger(all_sents, tag_data)"
   ]
  },
  {
   "cell_type": "code",
   "execution_count": 23,
   "metadata": {},
   "outputs": [
    {
     "name": "stdout",
     "output_type": "stream",
     "text": [
      " * Serving Flask app \"NERD.NER\" (lazy loading)\n",
      " * Environment: production\n",
      "   WARNING: This is a development server. Do not use it in a production deployment.\n",
      "   Use a production WSGI server instead.\n",
      " * Debug mode: off\n"
     ]
    },
    {
     "name": "stderr",
     "output_type": "stream",
     "text": [
      " * Running on http://127.0.0.1:5053/ (Press CTRL+C to quit)\n",
      "127.0.0.1 - - [31/May/2020 21:08:38] \"\u001b[37mGET / HTTP/1.1\u001b[0m\" 200 -\n",
      "127.0.0.1 - - [31/May/2020 21:08:39] \"\u001b[33mGET /favicon.ico HTTP/1.1\u001b[0m\" 404 -\n",
      "127.0.0.1 - - [31/May/2020 23:02:29] \"\u001b[37mGET / HTTP/1.1\u001b[0m\" 200 -\n",
      "127.0.0.1 - - [31/May/2020 23:02:30] \"\u001b[33mGET /favicon.ico HTTP/1.1\u001b[0m\" 404 -\n",
      "127.0.0.1 - - [31/May/2020 23:09:09] \"\u001b[37mGET / HTTP/1.1\u001b[0m\" 200 -\n",
      "127.0.0.1 - - [31/May/2020 23:09:10] \"\u001b[33mGET /favicon.ico HTTP/1.1\u001b[0m\" 404 -\n",
      "127.0.0.1 - - [31/May/2020 23:10:02] \"\u001b[37mGET / HTTP/1.1\u001b[0m\" 200 -\n",
      "127.0.0.1 - - [31/May/2020 23:10:02] \"\u001b[33mGET /favicon.ico HTTP/1.1\u001b[0m\" 404 -\n",
      "127.0.0.1 - - [31/May/2020 23:10:30] \"\u001b[37mGET / HTTP/1.1\u001b[0m\" 200 -\n",
      "127.0.0.1 - - [31/May/2020 23:10:31] \"\u001b[33mGET /favicon.ico HTTP/1.1\u001b[0m\" 404 -\n",
      "127.0.0.1 - - [31/May/2020 23:10:51] \"\u001b[37mGET / HTTP/1.1\u001b[0m\" 200 -\n",
      "127.0.0.1 - - [31/May/2020 23:10:51] \"\u001b[33mGET /favicon.ico HTTP/1.1\u001b[0m\" 404 -\n",
      "127.0.0.1 - - [31/May/2020 23:11:14] \"\u001b[37mGET / HTTP/1.1\u001b[0m\" 200 -\n",
      "127.0.0.1 - - [31/May/2020 23:11:14] \"\u001b[33mGET /favicon.ico HTTP/1.1\u001b[0m\" 404 -\n",
      "127.0.0.1 - - [31/May/2020 23:27:12] \"\u001b[37mGET / HTTP/1.1\u001b[0m\" 200 -\n",
      "127.0.0.1 - - [31/May/2020 23:27:13] \"\u001b[33mGET /favicon.ico HTTP/1.1\u001b[0m\" 404 -\n",
      "../../NERD/NER.py:375: UserWarning: No parser was explicitly specified, so I'm using the best available HTML parser for this system (\"lxml\"). This usually isn't a problem, but if you run this code on another system, or in a different virtual environment, it may use a different parser and behave differently.\n",
      "\n",
      "The code that caused this warning is on line 375 of the file ../../NERD/NER.py. To get rid of this warning, pass the additional argument 'features=\"lxml\"' to the BeautifulSoup constructor.\n",
      "\n",
      "  soup = BeautifulSoup()\n",
      "127.0.0.1 - - [31/May/2020 23:31:39] \"\u001b[37mGET /load_example HTTP/1.1\u001b[0m\" 200 -\n",
      "127.0.0.1 - - [31/May/2020 23:31:43] \"\u001b[37mGET /load_example HTTP/1.1\u001b[0m\" 200 -\n",
      "127.0.0.1 - - [31/May/2020 23:31:50] \"\u001b[37mPOST /save_example HTTP/1.1\u001b[0m\" 200 -\n",
      "127.0.0.1 - - [31/May/2020 23:31:51] \"\u001b[37mGET /load_example HTTP/1.1\u001b[0m\" 200 -\n",
      "127.0.0.1 - - [31/May/2020 23:32:11] \"\u001b[37mPOST /save_example HTTP/1.1\u001b[0m\" 200 -\n",
      "127.0.0.1 - - [31/May/2020 23:32:11] \"\u001b[37mGET /load_example HTTP/1.1\u001b[0m\" 200 -\n",
      "127.0.0.1 - - [31/May/2020 23:32:13] \"\u001b[37mPOST /save_example HTTP/1.1\u001b[0m\" 200 -\n",
      "127.0.0.1 - - [31/May/2020 23:32:14] \"\u001b[37mGET /load_example HTTP/1.1\u001b[0m\" 200 -\n",
      "127.0.0.1 - - [31/May/2020 23:32:34] \"\u001b[37mPOST /save_example HTTP/1.1\u001b[0m\" 200 -\n",
      "127.0.0.1 - - [31/May/2020 23:32:35] \"\u001b[37mGET /load_example HTTP/1.1\u001b[0m\" 200 -\n",
      "127.0.0.1 - - [31/May/2020 23:32:37] \"\u001b[37mPOST /save_example HTTP/1.1\u001b[0m\" 200 -\n",
      "127.0.0.1 - - [31/May/2020 23:32:38] \"\u001b[37mGET /load_example HTTP/1.1\u001b[0m\" 200 -\n",
      "127.0.0.1 - - [31/May/2020 23:32:40] \"\u001b[37mPOST /save_example HTTP/1.1\u001b[0m\" 200 -\n",
      "127.0.0.1 - - [31/May/2020 23:32:41] \"\u001b[37mGET /load_example HTTP/1.1\u001b[0m\" 200 -\n",
      "127.0.0.1 - - [31/May/2020 23:32:46] \"\u001b[37mPOST /save_example HTTP/1.1\u001b[0m\" 200 -\n",
      "[2020-05-31 23:32:47,496] ERROR in app: Exception on /load_example [GET]\n",
      "Traceback (most recent call last):\n",
      "  File \"/Library/Frameworks/Python.framework/Versions/3.6/lib/python3.6/site-packages/flask/app.py\", line 2447, in wsgi_app\n",
      "    response = self.full_dispatch_request()\n",
      "  File \"/Library/Frameworks/Python.framework/Versions/3.6/lib/python3.6/site-packages/flask/app.py\", line 1952, in full_dispatch_request\n",
      "    rv = self.handle_user_exception(e)\n",
      "  File \"/Library/Frameworks/Python.framework/Versions/3.6/lib/python3.6/site-packages/flask/app.py\", line 1821, in handle_user_exception\n",
      "    reraise(exc_type, exc_value, tb)\n",
      "  File \"/Library/Frameworks/Python.framework/Versions/3.6/lib/python3.6/site-packages/flask/_compat.py\", line 39, in reraise\n",
      "    raise value\n",
      "  File \"/Library/Frameworks/Python.framework/Versions/3.6/lib/python3.6/site-packages/flask/app.py\", line 1950, in full_dispatch_request\n",
      "    rv = self.dispatch_request()\n",
      "  File \"/Library/Frameworks/Python.framework/Versions/3.6/lib/python3.6/site-packages/flask/app.py\", line 1936, in dispatch_request\n",
      "    return self.view_functions[rule.endpoint](**req.view_args)\n",
      "  File \"../../NERD/NER.py\", line 422, in load_example\n",
      "    html = generate_html_from_example(example)\n",
      "  File \"../../NERD/NER.py\", line 357, in generate_html_from_example\n",
      "    if len(ex[0]) == 3:\n",
      "IndexError: list index out of range\n",
      "127.0.0.1 - - [31/May/2020 23:32:47] \"\u001b[35m\u001b[1mGET /load_example HTTP/1.1\u001b[0m\" 500 -\n",
      "127.0.0.1 - - [31/May/2020 23:32:52] \"\u001b[37mGET /load_example HTTP/1.1\u001b[0m\" 200 -\n",
      "127.0.0.1 - - [31/May/2020 23:32:59] \"\u001b[37mPOST /save_example HTTP/1.1\u001b[0m\" 200 -\n",
      "127.0.0.1 - - [31/May/2020 23:33:00] \"\u001b[37mGET /update_model HTTP/1.1\u001b[0m\" 200 -\n",
      "127.0.0.1 - - [31/May/2020 23:33:05] \"\u001b[37mGET /load_example HTTP/1.1\u001b[0m\" 200 -\n",
      "127.0.0.1 - - [31/May/2020 23:33:57] \"\u001b[37mPOST /save_example HTTP/1.1\u001b[0m\" 200 -\n",
      "127.0.0.1 - - [31/May/2020 23:33:58] \"\u001b[37mGET /load_example HTTP/1.1\u001b[0m\" 200 -\n",
      "127.0.0.1 - - [31/May/2020 23:34:11] \"\u001b[37mPOST /save_example HTTP/1.1\u001b[0m\" 200 -\n",
      "127.0.0.1 - - [31/May/2020 23:34:13] \"\u001b[37mGET /update_model HTTP/1.1\u001b[0m\" 200 -\n",
      "127.0.0.1 - - [31/May/2020 23:34:25] \"\u001b[37mGET /load_example HTTP/1.1\u001b[0m\" 200 -\n",
      "127.0.0.1 - - [31/May/2020 23:34:50] \"\u001b[37mPOST /save_example HTTP/1.1\u001b[0m\" 200 -\n",
      "127.0.0.1 - - [31/May/2020 23:34:50] \"\u001b[37mGET /update_model HTTP/1.1\u001b[0m\" 200 -\n",
      "127.0.0.1 - - [31/May/2020 23:34:53] \"\u001b[37mGET /load_example HTTP/1.1\u001b[0m\" 200 -\n",
      "127.0.0.1 - - [31/May/2020 23:35:19] \"\u001b[37mPOST /save_example HTTP/1.1\u001b[0m\" 200 -\n",
      "127.0.0.1 - - [31/May/2020 23:35:20] \"\u001b[37mGET /update_model HTTP/1.1\u001b[0m\" 200 -\n",
      "127.0.0.1 - - [31/May/2020 23:35:21] \"\u001b[37mGET /load_example HTTP/1.1\u001b[0m\" 200 -\n",
      "127.0.0.1 - - [31/May/2020 23:35:29] \"\u001b[37mPOST /save_example HTTP/1.1\u001b[0m\" 200 -\n",
      "127.0.0.1 - - [31/May/2020 23:35:30] \"\u001b[37mGET /load_example HTTP/1.1\u001b[0m\" 200 -\n",
      "127.0.0.1 - - [31/May/2020 23:35:38] \"\u001b[37mPOST /save_example HTTP/1.1\u001b[0m\" 200 -\n",
      "127.0.0.1 - - [31/May/2020 23:35:39] \"\u001b[37mGET /update_model HTTP/1.1\u001b[0m\" 200 -\n",
      "127.0.0.1 - - [31/May/2020 23:35:40] \"\u001b[37mGET /load_example HTTP/1.1\u001b[0m\" 200 -\n",
      "127.0.0.1 - - [31/May/2020 23:35:46] \"\u001b[37mPOST /save_example HTTP/1.1\u001b[0m\" 200 -\n",
      "127.0.0.1 - - [31/May/2020 23:35:47] \"\u001b[37mGET /load_example HTTP/1.1\u001b[0m\" 200 -\n",
      "127.0.0.1 - - [31/May/2020 23:35:54] \"\u001b[37mPOST /save_example HTTP/1.1\u001b[0m\" 200 -\n",
      "127.0.0.1 - - [31/May/2020 23:35:55] \"\u001b[37mGET /load_example HTTP/1.1\u001b[0m\" 200 -\n",
      "127.0.0.1 - - [31/May/2020 23:35:59] \"\u001b[37mPOST /save_example HTTP/1.1\u001b[0m\" 200 -\n",
      "127.0.0.1 - - [31/May/2020 23:36:00] \"\u001b[37mGET /load_example HTTP/1.1\u001b[0m\" 200 -\n",
      "127.0.0.1 - - [31/May/2020 23:36:09] \"\u001b[37mPOST /save_example HTTP/1.1\u001b[0m\" 200 -\n",
      "127.0.0.1 - - [31/May/2020 23:36:10] \"\u001b[37mGET /update_model HTTP/1.1\u001b[0m\" 200 -\n",
      "127.0.0.1 - - [31/May/2020 23:36:12] \"\u001b[37mGET /load_example HTTP/1.1\u001b[0m\" 200 -\n",
      "127.0.0.1 - - [31/May/2020 23:37:14] \"\u001b[37mPOST /save_example HTTP/1.1\u001b[0m\" 200 -\n",
      "127.0.0.1 - - [31/May/2020 23:37:15] \"\u001b[37mGET /update_model HTTP/1.1\u001b[0m\" 200 -\n",
      "127.0.0.1 - - [31/May/2020 23:37:16] \"\u001b[37mGET /load_example HTTP/1.1\u001b[0m\" 200 -\n",
      "127.0.0.1 - - [31/May/2020 23:37:27] \"\u001b[37mPOST /save_example HTTP/1.1\u001b[0m\" 200 -\n",
      "127.0.0.1 - - [31/May/2020 23:37:28] \"\u001b[37mGET /update_model HTTP/1.1\u001b[0m\" 200 -\n",
      "127.0.0.1 - - [31/May/2020 23:37:29] \"\u001b[37mGET /load_example HTTP/1.1\u001b[0m\" 200 -\n",
      "127.0.0.1 - - [31/May/2020 23:37:42] \"\u001b[37mPOST /save_example HTTP/1.1\u001b[0m\" 200 -\n",
      "127.0.0.1 - - [31/May/2020 23:37:43] \"\u001b[37mGET /update_model HTTP/1.1\u001b[0m\" 200 -\n",
      "127.0.0.1 - - [31/May/2020 23:37:46] \"\u001b[37mGET /load_example HTTP/1.1\u001b[0m\" 200 -\n",
      "127.0.0.1 - - [31/May/2020 23:38:06] \"\u001b[37mPOST /save_example HTTP/1.1\u001b[0m\" 200 -\n",
      "127.0.0.1 - - [31/May/2020 23:38:07] \"\u001b[37mGET /update_model HTTP/1.1\u001b[0m\" 200 -\n",
      "127.0.0.1 - - [31/May/2020 23:38:08] \"\u001b[37mGET /load_example HTTP/1.1\u001b[0m\" 200 -\n",
      "127.0.0.1 - - [31/May/2020 23:38:23] \"\u001b[37mPOST /save_example HTTP/1.1\u001b[0m\" 200 -\n",
      "127.0.0.1 - - [31/May/2020 23:38:25] \"\u001b[37mGET /load_example HTTP/1.1\u001b[0m\" 200 -\n",
      "127.0.0.1 - - [31/May/2020 23:39:03] \"\u001b[37mPOST /save_example HTTP/1.1\u001b[0m\" 200 -\n",
      "127.0.0.1 - - [31/May/2020 23:39:04] \"\u001b[37mGET /load_example HTTP/1.1\u001b[0m\" 200 -\n",
      "127.0.0.1 - - [31/May/2020 23:39:33] \"\u001b[37mPOST /save_example HTTP/1.1\u001b[0m\" 200 -\n",
      "127.0.0.1 - - [31/May/2020 23:39:34] \"\u001b[37mGET /update_model HTTP/1.1\u001b[0m\" 200 -\n"
     ]
    },
    {
     "name": "stderr",
     "output_type": "stream",
     "text": [
      "127.0.0.1 - - [31/May/2020 23:39:35] \"\u001b[37mGET /load_example HTTP/1.1\u001b[0m\" 200 -\n",
      "127.0.0.1 - - [31/May/2020 23:39:41] \"\u001b[37mPOST /save_example HTTP/1.1\u001b[0m\" 200 -\n",
      "127.0.0.1 - - [31/May/2020 23:39:42] \"\u001b[37mGET /update_model HTTP/1.1\u001b[0m\" 200 -\n",
      "127.0.0.1 - - [31/May/2020 23:39:43] \"\u001b[37mGET /load_example HTTP/1.1\u001b[0m\" 200 -\n",
      "127.0.0.1 - - [31/May/2020 23:40:17] \"\u001b[37mPOST /save_example HTTP/1.1\u001b[0m\" 200 -\n",
      "127.0.0.1 - - [31/May/2020 23:40:18] \"\u001b[37mGET /update_model HTTP/1.1\u001b[0m\" 200 -\n",
      "127.0.0.1 - - [31/May/2020 23:40:19] \"\u001b[37mGET /load_example HTTP/1.1\u001b[0m\" 200 -\n",
      "127.0.0.1 - - [31/May/2020 23:40:24] \"\u001b[37mPOST /save_example HTTP/1.1\u001b[0m\" 200 -\n",
      "127.0.0.1 - - [01/Jun/2020 01:00:25] \"\u001b[37mGET /load_example HTTP/1.1\u001b[0m\" 200 -\n",
      "127.0.0.1 - - [01/Jun/2020 01:00:49] \"\u001b[37mPOST /save_example HTTP/1.1\u001b[0m\" 200 -\n",
      "127.0.0.1 - - [01/Jun/2020 01:00:50] \"\u001b[37mGET /update_model HTTP/1.1\u001b[0m\" 200 -\n",
      "127.0.0.1 - - [01/Jun/2020 01:00:51] \"\u001b[37mGET /load_example HTTP/1.1\u001b[0m\" 200 -\n",
      "127.0.0.1 - - [01/Jun/2020 01:01:51] \"\u001b[37mPOST /save_example HTTP/1.1\u001b[0m\" 200 -\n",
      "127.0.0.1 - - [01/Jun/2020 01:01:52] \"\u001b[37mGET /update_model HTTP/1.1\u001b[0m\" 200 -\n",
      "127.0.0.1 - - [01/Jun/2020 01:01:53] \"\u001b[37mGET /load_example HTTP/1.1\u001b[0m\" 200 -\n",
      "127.0.0.1 - - [01/Jun/2020 01:02:20] \"\u001b[37mPOST /save_example HTTP/1.1\u001b[0m\" 200 -\n",
      "127.0.0.1 - - [01/Jun/2020 01:02:21] \"\u001b[37mGET /load_example HTTP/1.1\u001b[0m\" 200 -\n",
      "127.0.0.1 - - [01/Jun/2020 01:04:19] \"\u001b[37mPOST /save_example HTTP/1.1\u001b[0m\" 200 -\n",
      "127.0.0.1 - - [01/Jun/2020 01:04:20] \"\u001b[37mGET /load_example HTTP/1.1\u001b[0m\" 200 -\n",
      "127.0.0.1 - - [01/Jun/2020 01:06:30] \"\u001b[37mPOST /save_example HTTP/1.1\u001b[0m\" 200 -\n",
      "127.0.0.1 - - [01/Jun/2020 01:06:31] \"\u001b[37mGET /update_model HTTP/1.1\u001b[0m\" 200 -\n",
      "127.0.0.1 - - [01/Jun/2020 01:06:32] \"\u001b[37mGET /load_example HTTP/1.1\u001b[0m\" 200 -\n",
      "127.0.0.1 - - [01/Jun/2020 01:06:52] \"\u001b[37mPOST /save_example HTTP/1.1\u001b[0m\" 200 -\n",
      "127.0.0.1 - - [01/Jun/2020 01:06:54] \"\u001b[37mGET /update_model HTTP/1.1\u001b[0m\" 200 -\n",
      "127.0.0.1 - - [01/Jun/2020 01:06:54] \"\u001b[37mGET /load_example HTTP/1.1\u001b[0m\" 200 -\n",
      "127.0.0.1 - - [01/Jun/2020 01:08:06] \"\u001b[37mPOST /save_example HTTP/1.1\u001b[0m\" 200 -\n",
      "127.0.0.1 - - [01/Jun/2020 01:08:07] \"\u001b[37mGET /load_example HTTP/1.1\u001b[0m\" 200 -\n",
      "127.0.0.1 - - [01/Jun/2020 01:08:18] \"\u001b[37mPOST /save_example HTTP/1.1\u001b[0m\" 200 -\n",
      "127.0.0.1 - - [01/Jun/2020 01:08:19] \"\u001b[37mGET /load_example HTTP/1.1\u001b[0m\" 200 -\n",
      "127.0.0.1 - - [01/Jun/2020 01:08:31] \"\u001b[37mPOST /save_example HTTP/1.1\u001b[0m\" 200 -\n",
      "127.0.0.1 - - [01/Jun/2020 01:08:32] \"\u001b[37mGET /load_example HTTP/1.1\u001b[0m\" 200 -\n",
      "127.0.0.1 - - [01/Jun/2020 01:08:50] \"\u001b[37mPOST /save_example HTTP/1.1\u001b[0m\" 200 -\n",
      "127.0.0.1 - - [01/Jun/2020 01:08:53] \"\u001b[37mGET /update_model HTTP/1.1\u001b[0m\" 200 -\n",
      "127.0.0.1 - - [01/Jun/2020 01:08:54] \"\u001b[37mGET /load_example HTTP/1.1\u001b[0m\" 200 -\n",
      "127.0.0.1 - - [01/Jun/2020 01:09:39] \"\u001b[37mPOST /save_example HTTP/1.1\u001b[0m\" 200 -\n",
      "127.0.0.1 - - [01/Jun/2020 01:09:41] \"\u001b[37mGET /load_example HTTP/1.1\u001b[0m\" 200 -\n",
      "127.0.0.1 - - [01/Jun/2020 01:09:43] \"\u001b[37mPOST /save_example HTTP/1.1\u001b[0m\" 200 -\n",
      "127.0.0.1 - - [01/Jun/2020 01:09:45] \"\u001b[37mGET /load_example HTTP/1.1\u001b[0m\" 200 -\n"
     ]
    }
   ],
   "source": [
    "nertagger.start_server(port=5053)"
   ]
  },
  {
   "cell_type": "code",
   "execution_count": null,
   "metadata": {},
   "outputs": [],
   "source": []
  }
 ],
 "metadata": {
  "kernelspec": {
   "display_name": "Python 3",
   "language": "python",
   "name": "python3"
  },
  "language_info": {
   "codemirror_mode": {
    "name": "ipython",
    "version": 3
   },
   "file_extension": ".py",
   "mimetype": "text/x-python",
   "name": "python",
   "nbconvert_exporter": "python",
   "pygments_lexer": "ipython3",
   "version": "3.6.0"
  }
 },
 "nbformat": 4,
 "nbformat_minor": 2
}
